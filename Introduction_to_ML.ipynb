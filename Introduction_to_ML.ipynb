{
 "cells": [
  {
   "cell_type": "markdown",
   "metadata": {},
   "source": [
    "## Introduction to ML"
   ]
  },
  {
   "cell_type": "markdown",
   "metadata": {},
   "source": [
    "<img src=\"vs.png\" style=\"width:600px;height:300px\">"
   ]
  },
  {
   "cell_type": "markdown",
   "metadata": {},
   "source": [
    "\n",
    "\n",
    "       1). What is machine learning?\n",
    "            Machine learning is all about extracting patterns from data.\n",
    "            Definition: It enables machine to automatically learn from data,improves performance from experiences\n",
    "                    and predict things without being explicitly programmed.\n",
    "                    \n",
    "       2). why to use machin learning?\n",
    "            Explicit programming cons:\n",
    "             1. The logic required to make a decision is specific to a single domain and task.\n",
    "                Changing the task even slightly might require a rewrite of the whole system\n",
    "             2. Designing rules requires a deep understanding of how a decision should be made by a human expert.\n",
    "             \n",
    "             ML easily addresses the above problems.\n",
    "        \n",
    "       3). where to use machin learning?\n",
    "            It is been widely used in many industries like mdeial,retail,survilence etc..\n",
    "                Ex:Google translation,self driving cars,Alexa,Siri,recommendation systems....\n",
    "                \n",
    "       4). when to use machine learning?\n",
    "            When we need to predict the generalized patterns not for memorizing the answers.\n",
    "       "
   ]
  },
  {
   "cell_type": "markdown",
   "metadata": {},
   "source": [
    "###   How Does Machine Learning work ?\n",
    "       . Learns from Historical data \n",
    "       . Builds prediction models (finding a mathematical equation to map the input data to the output)\n",
    "       . predict the output when we recieve new data.\n",
    "            "
   ]
  },
  {
   "cell_type": "markdown",
   "metadata": {},
   "source": [
    "<img src=\"how.png\" >"
   ]
  },
  {
   "cell_type": "markdown",
   "metadata": {},
   "source": [
    "####    Terms:\n",
    "     Labeled Data:\n",
    "         History data with one or more columns labeled as output\n",
    "     Features:\n",
    "         input/output Columns of the data\n",
    "     Independent features/predictor: \n",
    "         input columns of the data\n",
    "     Dependent features/Labels/target: \n",
    "         output columns of the data\n",
    "     Dataset: Collection fo data."
   ]
  },
  {
   "cell_type": "markdown",
   "metadata": {},
   "source": [
    "### Categories of machine learning:\n",
    "        Category 1: Whether or not trained with supervision (supervized,unsupervized,reinforcement).\n",
    "        Category 2: Whether or not they can learn incrementally on the fly (online versus batch learning).\n",
    "        Category 3: Whether they work by simply comparing new data points to known data points(instance-based vsmodel-based)\n",
    "                          "
   ]
  },
  {
   "cell_type": "markdown",
   "metadata": {},
   "source": [
    "#### Category 1:"
   ]
  },
  {
   "cell_type": "markdown",
   "metadata": {},
   "source": [
    "<img src=\"types.png\" style=\"width:400px;height:300px\">"
   ]
  },
  {
   "cell_type": "markdown",
   "metadata": {},
   "source": [
    "### Supervised Learning:\n",
    "    A machine learning method in which we provide the labeled data (input/output pairs) in order to train it, find mathematical function and predict the output using it.\n",
    "    \n",
    "    Under the supervision of history data, model will be trained.We do have pre-determined results.\n",
    "    \n",
    "    Categorized into:\n",
    "        1). Regression\n",
    "        2). Classification\n",
    "        \n",
    "        \n",
    "    "
   ]
  },
  {
   "cell_type": "markdown",
   "metadata": {},
   "source": [
    "### Unsupervised Learning:\n",
    "    Unsupervised learning is a learning method in which a machine learns without any history data (supervision with labels).\n",
    "    \n",
    "    We dont have pre-determined results.\n",
    "    \n",
    "    Categorized into:\n",
    "        1) Clustering\n",
    "        2) Association"
   ]
  },
  {
   "cell_type": "markdown",
   "metadata": {},
   "source": [
    "### Reinforcement Leanring:\n",
    "Reinforcement learning is a feedback-based learning method, in which a learning agent gets a reward for each right action and gets a penalty for each wrong action. The agent learns automatically with these feedbacks and improves its performance\n",
    "    "
   ]
  },
  {
   "cell_type": "markdown",
   "metadata": {},
   "source": [
    "Semisupervised learning is with few labeled and few unlabeled data"
   ]
  },
  {
   "cell_type": "markdown",
   "metadata": {},
   "source": [
    "### Differences in simple:"
   ]
  },
  {
   "cell_type": "markdown",
   "metadata": {},
   "source": [
    "    Supervised Learning:\n",
    "        > Labeled Data \n",
    "        > Direct Feedback\n",
    "        > Predict Outcome\n",
    "\n",
    "    Unsupervised Learning:\n",
    "        > No Labels\n",
    "        > No Feedback\n",
    "        > Find hidden structure in data\n",
    "\n",
    "    Reinforcement Learning:\n",
    "        > Decision Process\n",
    "        > Reward Process\n",
    "        > Learn series of actions"
   ]
  },
  {
   "cell_type": "markdown",
   "metadata": {},
   "source": [
    "### Category 2:\n",
    "\n",
    "     Batch Learning (offline learning): \n",
    "     \n",
    "         The system is trained on full available data and then launch it into production, runs without learning anymore.   \n",
    "         To a new data to be trained,we need to train full system on the available dataset.\n",
    "           Simply update data and train new version of data from scratch\n",
    "       \n",
    "          Pros: simple and often used\n",
    "          cons: more resources required to train on complete dataset (in case of huge dataset)\n",
    "                system shd get trained frequently for rapid chaging data\n",
    "        \n",
    "      Online Learning (Incremental Learning):\n",
    "            The system is trained incrementally on the fly\n",
    "          Pros: Fast and cheap.\n",
    "          Cons: wont be more accurate as it trains on every instance\n",
    " "
   ]
  },
  {
   "cell_type": "markdown",
   "metadata": {},
   "source": [
    "### Category 3:\n",
    "    \n",
    "    Instance based :\n",
    "        System learns from the data and generalize the new data.Like finding similarity of such instances and assign that class.\n",
    "    Model Based: Build a model to generalize and model predicts the new data class.\n",
    "      "
   ]
  },
  {
   "cell_type": "markdown",
   "metadata": {},
   "source": [
    "#### Main steps of Machine learning:\n",
    "        Step 1: Data collection\n",
    "        Step 2: Data preprocessing/Data wrangling/Feature Engineering.\n",
    "        Step 3: Data analysis (Exploratory data analysis)\n",
    "        Step 4: Choose a model\n",
    "        Step 6: Train the model\n",
    "        Step 7: Evaluate the model\n",
    "        Step 8: Parameter tuning\n",
    "        Step 9: Prediction and deployement"
   ]
  },
  {
   "cell_type": "markdown",
   "metadata": {},
   "source": [
    "### 1. Data Collection\n",
    "     At high level, data is of two types:\n",
    "         1) Numerical data:\n",
    "             . Continuous or quantitative: Any real number.Ex: stock price,weather forecasting             \n",
    "             \n",
    "         2) Categorical data (text/string):\n",
    "             . Discrete or qualitative: \n",
    "                  Nominal: Green or Red or Yellow,Yes or No, Male or Female\n",
    "                  Ordinal: Small or medium or large\n",
    "      \n",
    "      Data is most commonly available in formats csv,xls,json.It is either provided by customers or can be taken from online"
   ]
  },
  {
   "cell_type": "markdown",
   "metadata": {},
   "source": [
    "### 2. Data preprocessing/Data wrangling/Feature Engineering:\n",
    "\n",
    "   1. Getting the dataset\n",
    "   2. Importing libraries\n",
    "   3. Importing datasets and extract independent and dependent features\n",
    "   4. Handling Missing Data (optional , depends on ur dataset)\n",
    "   5. Encoding Categorical Data (optional , depends on ur dataset)\n",
    "   6. Splitting dataset into training and test set\n",
    "   7. Feature scaling (optional , depends on ur dataset)\n",
    "   8. Feature selection/ extraction (optional , depends on ur dataset)"
   ]
  },
  {
   "cell_type": "code",
   "execution_count": null,
   "metadata": {},
   "outputs": [],
   "source": [
    "#Step 1 to step 3:\n",
    "    # importing libraries  \n",
    "import numpy as nm  \n",
    "import matplotlib.pyplot as mtp  \n",
    "import pandas as pd  \n",
    "  \n",
    "#importing datasets  \n",
    "data_set= pd.read_csv('Dataset.csv')  \n",
    "  \n",
    "#Extracting Independent Variable  \n",
    "x= data_set.iloc[:, :-1].values  \n",
    "  \n",
    "#Extracting Dependent variable  \n",
    "y= data_set.iloc[:, 3].values  "
   ]
  },
  {
   "cell_type": "markdown",
   "metadata": {},
   "source": [
    " #### Step 4:Handling with Missing Data:   \n",
    "            1 > Delete:\n",
    "                        Delete the rows or columns having the missing values. This approach is better \n",
    "                        when the number  of missing values rows count is < 5%.                       \n",
    "            2 > Replace with summary:\n",
    "                            Most commonly used imputation technique.Summary means mean (average) or mode or median \n",
    "                                     Numerical data: Mean or median\n",
    "                                     Categorical data: Mode\n",
    "            3 > Random Replace: Randomly pick values from that respective column and replace it.This is used when \n",
    "                                missing value row count is insignificant.\n",
    "            4 > Predictive model: This is advanced technique where model predicts the missing value.\n",
    "                                    "
   ]
  },
  {
   "cell_type": "code",
   "execution_count": null,
   "metadata": {},
   "outputs": [],
   "source": [
    "# How to check if df has missing values\n",
    "  #isnull() or isna()\n",
    "\n",
    "# practical code\n",
    "import pandas as pd\n",
    "import numpy as np\n",
    "df = pd.DataFrame({\"name\": ['Alfred', 'Batman', 'Catwoman'],\n",
    "                   \"toy\": [np.nan, 'Batmobile', 'Bullwhip'],\n",
    "                   \"born\": [pd.NaT, pd.Timestamp(\"1940-04-25\"),\n",
    "                            pd.NaT]})\n",
    "df"
   ]
  },
  {
   "cell_type": "markdown",
   "metadata": {},
   "source": [
    "#### Deleting"
   ]
  },
  {
   "cell_type": "code",
   "execution_count": null,
   "metadata": {},
   "outputs": [],
   "source": [
    "# deleting:\n",
    "\n",
    "#Drop rows where atlease one element is missing\n",
    "print(df.dropna())\n",
    "#print(df)\n",
    "\n",
    "#Drop columns where atlease one element is missing\n",
    "print(df.dropna(axis=1))  \n",
    "# or \n",
    "print(df.dropna(axis='columns'))\n",
    "\n",
    "# Drop the rows where all elements are missing\n",
    "print(df.dropna(how='all'))\n",
    "\n",
    "# keep the rows only when atleast two non- na values present\n",
    "print(df.dropna(thresh=3))\n",
    "\n",
    "# IF we need to look after specific columns\n",
    "print(df.dropna(subset=['name']))\n",
    "\n",
    "# If we want the changes to be done to original data then use inplace=True"
   ]
  },
  {
   "cell_type": "markdown",
   "metadata": {},
   "source": [
    "#### Replace with summary"
   ]
  },
  {
   "cell_type": "code",
   "execution_count": null,
   "metadata": {},
   "outputs": [],
   "source": [
    "# will use fillna()\n",
    "from numpy import nan as NA\n",
    "\n",
    "data = pd.DataFrame([[2., 6.5, 3.], [2., np.nan,NA], [NA, 6.5, NA], [NA, 6.5, 4]]\n",
    "                    ,columns=['col1','col2','col3']\n",
    "                    ,index=['row1','row2','row3','row4'])\n",
    "\n",
    "data1 = pd.DataFrame([[5., 7.5, 3.], [2., np.nan,NA], [NA, 7.5, NA], [NA, 6.5, 6]]\n",
    "                    ,columns=['col1','col2','col3']\n",
    "                    ,index=['row1','row2','row3','row4'])\n",
    "print(data)\n"
   ]
  },
  {
   "cell_type": "code",
   "execution_count": null,
   "metadata": {},
   "outputs": [],
   "source": [
    "# Replace with constant\n",
    "print(data.fillna(value=1))\n",
    "\n",
    "# Replace with different fill value for each column:\n",
    "print(data.fillna({1:0.5,2:0.7}))\n",
    "\n",
    "# Replace with previous value, we can limit the number of fillings using limit\n",
    "print(data.fillna(method='ffill'))\n",
    "print(data.fillna(method='ffill',limit=1))\n",
    "\n",
    "# Replace with next value, we can limit the number of fillings using limit\n",
    "print(data.fillna(method='bfill'))\n",
    "print(data.fillna(method='bfill',limit=1))\n",
    "\n",
    "# Replace with mean\n",
    "print(data.fillna(data.mode()))\n",
    "\n",
    "# to affect the orginal data, we shd use inplace"
   ]
  },
  {
   "cell_type": "code",
   "execution_count": null,
   "metadata": {},
   "outputs": [],
   "source": [
    "# Another way of replacing is with scikit learn estimator API Simple Imputer\n",
    "\n",
    "import pandas as pd\n",
    "import numpy as np\n",
    "\n",
    "\n",
    "\n",
    "from sklearn.impute import SimpleImputer\n",
    "imr=SimpleImputer(missing_values=np.nan,strategy='most_frequent') # strategy can be either mean,median,mode\n",
    "imr_fit=imr.fit(data.values)  \n",
    "data=imr_fit.transform(data.values)\n",
    "print(data)\n",
    "# print(imputed)\n",
    "\n",
    "\n",
    "# Note: fit finds the mean of columns and transform converts it"
   ]
  },
  {
   "cell_type": "markdown",
   "metadata": {},
   "source": [
    "#### 3. Replace with random values\n"
   ]
  },
  {
   "cell_type": "code",
   "execution_count": null,
   "metadata": {},
   "outputs": [],
   "source": [
    "df.replace(NA,10)"
   ]
  },
  {
   "cell_type": "markdown",
   "metadata": {},
   "source": [
    "### 2. Removing duplicates"
   ]
  },
  {
   "cell_type": "code",
   "execution_count": null,
   "metadata": {},
   "outputs": [],
   "source": [
    "df1 = pd.DataFrame({'k1': ['one', 'two'] * 3 + ['two'], 'k2': [1, 1, 2, 3, 3, 4, 4]})\n",
    "df1['k1'].drop_duplicates(keep='last')"
   ]
  },
  {
   "cell_type": "code",
   "execution_count": null,
   "metadata": {},
   "outputs": [],
   "source": [
    "# below method returns booleabs values if a row is duplicate or not\n",
    "#print(df1.duplicated())\n",
    "\n",
    "# to drop duplicate rows where all elements in columns are same\n",
    "#print(df1.drop_duplicates())\n",
    "\n",
    "# to drop duplicate rows where all elements in specific columns are same\n",
    "print(df1.drop_duplicates(['k1']))\n",
    "\n",
    "# basically drop will keep first occurence and delete the rest duplicates, if u want to keep last occurence then\n",
    "#print(df1.drop_duplicates(['k1'],keep='last'))"
   ]
  },
  {
   "cell_type": "markdown",
   "metadata": {},
   "source": [
    "   #### Difference between fit (), transform(),fit_transform() and predict()\n",
    "    Transformers: Used for data preprocessing . Ex: SimpleImputer class and feature selection class.\n",
    "        1. fit (): Used to find the parameters (mean,median,mode) values of the training data and saves the state internally\n",
    "        2. transform(): Use the above calculated mean and return the modified data.\n",
    "        3. fit_transform(): use fit() first and trasnform() second.\n",
    "        \n",
    "    Model: used to make predictions with models like linear regression etc.,\n",
    "        1. fit(): Used to calculate the parameters/weights/coefficients on training data\n",
    "        2. predict(): Use the above calculated weights to make the predictions.\n",
    "        3. transform(): cannot be used\n",
    "        4. fit_transform(): cannot be used."
   ]
  },
  {
   "cell_type": "markdown",
   "metadata": {},
   "source": [
    "### Step 5 : Encoding categorical data:\n",
    "    Categorical Data: Many ML algorithms need categorical daat to be encoded to integer values.\n",
    "    \n",
    "                  1. Ordinal : where values can be ordered /sorted.\n",
    "                  2. Nominal : where values cannot be ordered /sorted\n",
    "       "
   ]
  },
  {
   "cell_type": "code",
   "execution_count": null,
   "metadata": {},
   "outputs": [],
   "source": [
    "import pandas as pd\n",
    "df=pd.DataFrame(\n",
    "                [\n",
    "                  ['green','M',10.1,'class2']  ,\n",
    "                  ['red','L',13.1,'class1'] ,\n",
    "                  ['blue','XL',15.3,'class2']\n",
    "                ]\n",
    "               )\n",
    "df.columns=['color','size','price','classlabel']\n",
    "df"
   ]
  },
  {
   "cell_type": "markdown",
   "metadata": {},
   "source": [
    "#### Handling Ordinal Data:\n",
    "     Map a unique numbers manually inorder to preserve the order"
   ]
  },
  {
   "cell_type": "code",
   "execution_count": null,
   "metadata": {},
   "outputs": [],
   "source": [
    "size_dict={\n",
    "            'M':1,\n",
    "            'L':2,\n",
    "            'XL':3\n",
    "            }\n",
    "df['size']=df['size'].map(size_dict)\n",
    "df"
   ]
  },
  {
   "cell_type": "code",
   "execution_count": null,
   "metadata": {},
   "outputs": [],
   "source": []
  },
  {
   "cell_type": "markdown",
   "metadata": {},
   "source": [
    "  #### Handling Nominal Data: No need to preserve the order. \n",
    "    Approach 1:\n",
    "        1. Lable Encoding: Assigns unique number to every categorical value.\n",
    "        2. One hot encoding: Creates new dummy features to the categorical values and uses binary values to represent value.\n",
    "    Approach 2:\n",
    "        1. get_dummies function converts all string columns without touching  numerical columns.\n",
    "        "
   ]
  },
  {
   "cell_type": "markdown",
   "metadata": {},
   "source": [
    "##### Label Encoding"
   ]
  },
  {
   "cell_type": "code",
   "execution_count": null,
   "metadata": {},
   "outputs": [],
   "source": [
    "# Label encoding using sckit learn\n",
    "from sklearn.preprocessing import LabelEncoder\n",
    "le=LabelEncoder()\n",
    "df['color']=le.fit_transform(df['color'].values)\n",
    "df"
   ]
  },
  {
   "cell_type": "markdown",
   "metadata": {},
   "source": [
    "    Problem with label encoding: After applying label encoding, nominal data looks like preserving some order (color column) \n",
    "                                which gives wrong results\n",
    "    Solution: Use one-hot encoding"
   ]
  },
  {
   "cell_type": "markdown",
   "metadata": {},
   "source": [
    "##### One-hot encoding:\n",
    "    "
   ]
  },
  {
   "cell_type": "code",
   "execution_count": null,
   "metadata": {},
   "outputs": [],
   "source": [
    "from sklearn.preprocessing import OneHotEncoder\n",
    "\n",
    "ohe=OneHotEncoder()\n",
    "X=df[['color','size','price']].values\n",
    "ohe.fit_transform(X[:,0].reshape(-1,1)).toarray()"
   ]
  },
  {
   "cell_type": "code",
   "execution_count": null,
   "metadata": {},
   "outputs": [],
   "source": [
    "from sklearn.preprocessing import OneHotEncoder\n",
    "\n",
    "ohe=OneHotEncoder()\n",
    "X=df[['color','size','price']].values\n",
    "#ohe.fit_transform(X[:,0].reshape(-1,1)).toarray()\n",
    "\n",
    "# We are applying to one column, so we converted it to vector using reshape\n",
    "\n",
    "# If we want to apply multiple columns we can use sklearn library ColumnTransfer as below:\n",
    "\n",
    "from sklearn.compose import ColumnTransformer\n",
    "ct=ColumnTransformer(\n",
    "                        [\n",
    "                            ('onehot',OneHotEncoder(drop='first'),[0]),\n",
    "                            ('nothing','passthrough',[1,2])\n",
    "                        ]\n",
    "                    )\n",
    "X=ct.fit_transform(X)\n",
    "X"
   ]
  },
  {
   "cell_type": "markdown",
   "metadata": {},
   "source": [
    "    Problem with one hot encoding: with one hot encoding, features become highly correlated \n",
    "                            which makes matrix inversion difficult.This problem is called multi collinearity.\n",
    "    Solution: We can remove one feature to reduce it. Use drop='first',categories='auto' options"
   ]
  },
  {
   "cell_type": "code",
   "execution_count": null,
   "metadata": {},
   "outputs": [],
   "source": [
    "#### In order to solve multicollinearity with one hot enoding use below options:\n",
    "X=df[['color','size','price']].values\n",
    "color_ohe=OneHotEncoder(drop='first',categories='auto')\n",
    "ct=ColumnTransformer(\n",
    "                        [\n",
    "                            ('onehot',OneHotEncoder(categories='auto',drop='first'),[0]),\n",
    "                            ('nothing','passthrough',[1,2])\n",
    "                        ]\n",
    "                    )\n",
    "X=ct.fit_transform(X)\n",
    "X"
   ]
  },
  {
   "cell_type": "markdown",
   "metadata": {},
   "source": [
    "#####  Approach 2: get_dummies function\n"
   ]
  },
  {
   "cell_type": "code",
   "execution_count": null,
   "metadata": {},
   "outputs": [],
   "source": [
    "import pandas as pd\n",
    "df=pd.DataFrame(\n",
    "                [\n",
    "                  ['green','M',10.1,'class2']  ,\n",
    "                  ['red','L',13.1,'class1'] ,\n",
    "                  ['blue','XL',15.3,'class2']\n",
    "                ]\n",
    "               )\n",
    "df.columns=['color','size','price','classlabel']\n",
    "pd.get_dummies(df[['color','classlabel']],drop_first=True)\n",
    "\n",
    "# To reduce multicollinearity , use drop_first=True"
   ]
  },
  {
   "cell_type": "markdown",
   "metadata": {},
   "source": [
    "### Step 6: Splitting the Dataset into the Training set and Test set:\n",
    "\n",
    "In machine learning data preprocessing, we divide our dataset into a training set and test set. This is one of the crucial steps of data preprocessing as by doing this, we can enhance the performance of our machine learning model\n",
    "\n",
    "##### Make sure the features are splitted into two arrays independent and depenedent \n",
    "\n",
    "    X=df.iloc[:,:-1].values, y=df.iloc[:,3].values\n",
    "    from sklearn.model_selection import train_test_split  \n",
    "    x_train, x_test, y_train, y_test= train_test_split(x, y, test_size= 0.2, random_state=0,stratify=y) \n",
    "\n",
    "    1) In the above code, the first line is used for splitting arrays of the dataset into random train and test subsets.\n",
    "    2) In the second line, we have used four variables for our output that are\n",
    "        x_train: features for the training data\n",
    "        x_test: features for testing data\n",
    "        y_train: Dependent variables for training data\n",
    "        y_test: Independent variable for testing data\n",
    "    3) In train_test_split() function, we have passed four parameters in which first two are for arrays of data,\n",
    "        and test_size is for specifying the size of the test set. The test_size maybe .5, .3, or .2, which tells the \n",
    "        dividing ratio of training and testing sets.\n",
    "    4) The last parameter random_state is used to set a seed for a random generator so that you always get the same result, and the most used value for this is 42.\n",
    "    5) with stratify option, training and test datasets will have same class proportions as the original dataset."
   ]
  },
  {
   "cell_type": "markdown",
   "metadata": {},
   "source": [
    "### Step 7 : Feature scaling:\n",
    "\n",
    "##### Why should we use feature scaling?\n",
    "     Most of the ML agorithms uses Gradient descent to obtain parameters which requires data to be scaled.\n",
    "  ###### Having features on a similar scale can help the gradient descent converge more quickly towards the minima\n",
    "\n",
    "##### what is feature scaling ?\n",
    "    It is a technique to convert the feature values in the same range and in the same scale so that no any variable dominate the other variable.\n",
    "\n",
    "    There are three ways to perform feature scaling in machine learning:\n",
    "###### Standardization:\n",
    "                    Rescales the features values and centers the values around 0 mean and 1 standard deviation\n",
    "                    This makes easier to learn weights and also less sensitive to outliers.\n",
    "                    This is most commonly used techinique.\n",
    "                    \n",
    "                    Usage: Use when data isfollowing guassian distribution.\n",
    "                    equation: xi_new =x_old − mean(x)/standard deviation\n",
    "###### Normalization/min-max scaling:\n",
    "        Normalization is a scaling technique in which values are shifted and rescaled so that they end up ranging between 0 and 1. It is also known as Min-Max scaling.Rescale the feature values between 0 and 1\n",
    "                    \n",
    "                    Usage: Use when data is not following guassian distribution.\n",
    "                    equation: xi_new =x_old − min(x)/max(x) − min(x)\n",
    "    \n",
    "###### Robust Scaler:\n",
    "        is used when we have small datasets and more outliers.\n",
    "    \n",
    "      # Standardization:\n",
    "        from sklearn.preprocessing import StandardScaler  \n",
    "        st_x= StandardScaler()  \n",
    "        x_train= st_x.fit_transform(x_train)  \n",
    "        x_test= st_x.transform(x_test)  \n",
    "      # Normalization:\n",
    "        from sklearn.preprocessing import MinMaxScaler  \n",
    "        st_x= MinMaxScaler()  \n",
    "        x_train= st_x.fit_transform(x_train)  \n",
    "        x_test= st_x.transform(x_test)  \n",
    "###### Distance based algorithms like KNN, K-means and SVM are most affected by the range of features. Because, these use euclidean distance between data points to find the similarity.    \n",
    "###### Tree based algorithms like decision trees and random forests are invariant to feature scaling."
   ]
  },
  {
   "cell_type": "markdown",
   "metadata": {},
   "source": [
    "### Feature selection:\n",
    "\n",
    "    from sklearn.feature_selection import SelectKBest, f_regression\n",
    "    clf = make_pipeline(SelectKBest(f_regression, k=20),\n",
    "                    GradientBoostingClassifier())"
   ]
  },
  {
   "cell_type": "markdown",
   "metadata": {},
   "source": [
    "### Evaluation metrics\n",
    "    These are used to measure the quality of the machine learning model.\n",
    "    \n",
    "    Most commonly used metrics are as below :\n",
    "    \n",
    "##### Classification:\n",
    "    - Accuracy:     \n",
    "    - Precision (P)\n",
    "    - Recall (R)\n",
    "    - F1 score (F1)\n",
    "    - Area under the ROC (Receiver Operating Characteristic) curve or simply\n",
    "    - AUC (AUC)\n",
    "    - Log loss\n",
    "    - Precision at k (P@k)\n",
    "    - Average precision at k (AP@k)\n",
    "    - Mean average precision at k (MAP@k)\n",
    "    \n",
    "    When we have an nearly equal number of positive and negative samples in a binary classification metric, we generally use\n",
    "    accuracy, precision, recall and f1.\n",
    "    \n",
    "\n",
    "       \n",
    " ####   Terms:       \n",
    "       True positive (TP): if your model correctly predicts positive class, it is true positive (TP)\n",
    "       True negative (TN): if your model accurately predicts negative class, it is a true negative (TN).\n",
    "       False positive (FP): if your model incorrectly (or falsely) predicts positive class, it is a false positive (FP).      \n",
    "       False negative (FN): If your model incorrectly (or falsely) predicts negative class, it is a false negative (FN).      \n",
    "                           \n",
    "            Accuracy Score                          = (TP + TN) / (TP + TN + FP + FN)\n",
    "            Precision                               = TP / (TP + FP)\n",
    "            Recall/True positive rate/sensitivity   = TP / (TP + FN)\n",
    "            F1                                      = 2PR / (P + R) (harmonic of precision and recall)\n",
    "            FPR(False Positive rate)                = FP / (TN + FP)\n",
    "            specificity (True Negative Rate)        = 1 - FPR\n",
    "            \n",
    "      Impl:\n",
    "          from sklearn.metrics import accuracy_score,precision_score, recall_score,f1_score\n",
    "          \n",
    "        Lets take an example to explain the above metrics:\n",
    "        Example dataset: Two classes of 100 samples (95 cancer/ 5 non cancer as the classes)\n",
    "        \n",
    "#####    1) Accuracy: \n",
    "       This metrics tells how well our model classified correctly.\n",
    "       \n",
    "       In case of imbalnced dataset like our example, it gives 95% accuracy even if we select all as non -cancer which \n",
    "      is dangerous because we are leaving the sensitive info like cancer patients who needs treatment.\n",
    "      \n",
    "     When to use? when we have nearly equal balanced datasets.\n",
    "##### 2) confusion matrix: Is not a performance metric but helpful to measure the below metrics.\n",
    "    A much better way to evaluate the performance of a classifier is to look at  the confusion matrix\n",
    "        \n",
    "        Impl: from sklearn.metrics import confusion_matrix\n",
    "              confusion_matrix(y_train_5, y_train_pred)\n",
    "     \n",
    "##### 3) Precision:  (how many cancer classes did we caught)\n",
    "    Out of all postive predictions, hw many classes are predicted actually positive.\n",
    "                   \n",
    "    When to use? should be used when we are precise about one class (in this case cancer patients).\n",
    "     \n",
    "    Ex: Even if we predict all classes as cancer, the precised class (cancer) will be classified properly.\n",
    "    \n",
    "##### 3) Recall: (how many cancer classes did we miss)\n",
    "    Out of all actual postive classes, hw many are  positively predicted.\n",
    "                   \n",
    "     When to use? should be used when we are precise about all class.\n",
    "     \n",
    "##### 4) Specifity: (how many non-cancer classes did we miss)\n",
    "##### 5) F1-score :\n",
    "    So, there is a trade off between precision and recall.Which we usually consider threshold value( default 0.5).\n",
    "    \n",
    "    How to decide threshold?\n",
    "        cross val predict gives predictions of every sample.If we use decision function then it gives decision scores.\n",
    "        y_scores = cross_val_predict(sgd_clf, X_train, y_train_5, cv=3,method=\"decision_function\")\n",
    "        \n",
    "        With these scores, use the precision_recall_curve() function to compute precision and recall for all \n",
    "        possible thresholds:\n",
    "        from sklearn.metrics import precision_recall_curve\n",
    "        precisions, recalls, thresholds = precision_recall_curve(y_train_5,\n",
    "        y_scores)\n",
    "    \n",
    "    It is good to get one score out of it.Harmonic mean of precision and recall is called F1-score\n",
    "    \n",
    "    Note: regular mean treats all values equally, the harmonic mean gives much more weight to low values. As a result, the\n",
    "            classifier will only get a high F score if both recall and precision are high.\n",
    "     \n",
    "     when to use ? F1-score is used when the False Negatives and False Positives are crucial\n",
    "\n",
    "##### 6) ROC -curve  : \n",
    "      The receiver operating characteristic (ROC) curve is another common tool used with binary classifiers.\n",
    "      It is very similar to the precision/recall curve, but instead of plotting precision versus recall,\n",
    "      the ROC curve plots  the true positive rate (another name for recall) against the false positive rate (FPR)\n",
    "      \n",
    "      from sklearn.metrics import roc_curve\n",
    "      fpr, tpr, thresholds = roc_curve(y_train_5, y_scores)\n",
    "      \n",
    "      def plot_roc_curve(fpr, tpr, label=None):\n",
    "        plt.plot(fpr, tpr, linewidth=2, label=label)\n",
    "        plt.plot([0, 1], [0, 1], 'k--') # Dashed diagonal [...] # Add axis labels and grid\n",
    "        plot_roc_curve(fpr, tpr)\n",
    "        plt.show()\n",
    "       \n",
    "       Dotted line is roc curve and a good classifier stays as far as possible to it.\n",
    "       \n",
    "       When to use? ROC curves should be used when there are roughly equal numbers of observations for each class\n",
    "       Precision-Recall curves should be used when there is a moderate to large class imbalance.\n",
    "##### AOC Curve:\n",
    "        One way to compare classifiers is to measure the area under the curve.(AUC). \n",
    "        A perfect classifier will have a ROC AUC equal to 1\n",
    "        \n",
    "        from sklearn.metrics import roc_auc_score\n",
    "        roc_auc_score(y_train_5, y_scores)\n",
    "##### Log loss: \n",
    "    log loss penalizes quite high for an incorrect or a far-off prediction, i.e. log loss punishes you for being \n",
    "    very sure and very wrong\n",
    "    \n",
    "    Log Loss = - 1.0 * ( target * log(prediction) + (1 - target) * log(1 - prediction) )\n",
    "    \n",
    "###### In case of multi class classification:\n",
    "    \n",
    "    Macro averaged precision: calculate precision for all classes individually and then average them\n",
    "    Micro averaged precision: calculate class wise true positive and false positive and then use that to\n",
    "                            calculate overall precision\n",
    "    Weighted precision: same as macro but in this case, it is weighted average depending on the number of items in each class\n",
    "\n",
    "##### Regression:\n",
    "    - Mean absolute error (MAE)\n",
    "    - Mean squared error (MSE)\n",
    "    - Root mean squared error (RMSE)\n",
    "    - Root mean squared logarithmic error (RMSLE)\n",
    "    - Mean percentage error (MPE)\n",
    "    - Mean absolute percentage error (MAPE)\n",
    "    - R2\n",
    "    "
   ]
  },
  {
   "cell_type": "markdown",
   "metadata": {},
   "source": [
    "## Linear Regression with one variable"
   ]
  },
  {
   "cell_type": "markdown",
   "metadata": {},
   "source": [
    "<h3 style=\"color:purple\">Sample problem of predicting home price </h3>"
   ]
  },
  {
   "cell_type": "markdown",
   "metadata": {},
   "source": [
    "Below table represents current home prices "
   ]
  },
  {
   "cell_type": "markdown",
   "metadata": {},
   "source": [
    "<img src=\"homepricetable.JPG\" style=\"width:150px;height:150px\">"
   ]
  },
  {
   "cell_type": "markdown",
   "metadata": {},
   "source": [
    "**Problem Statement**: Given above data build a machine learning model that can predict home prices based on  area\n"
   ]
  },
  {
   "cell_type": "markdown",
   "metadata": {},
   "source": [
    "You can represent values in above table as a scatter plot (values are shown in red markers). After that one can draw a straight line that best fits values on chart. "
   ]
  },
  {
   "cell_type": "markdown",
   "metadata": {},
   "source": [
    "<img src=\"scatterplot.JPG\" style=\"width:500px;height:370px\">"
   ]
  },
  {
   "cell_type": "markdown",
   "metadata": {},
   "source": [
    "You can draw multiple lines like this but we choose the one where total sum of error is minimum"
   ]
  },
  {
   "cell_type": "markdown",
   "metadata": {},
   "source": [
    "<img src=\"equation.PNG\" style=\"width:500px;height:370px\" >"
   ]
  },
  {
   "cell_type": "markdown",
   "metadata": {},
   "source": [
    "Home prices can be presented as following equation,\n",
    "\n",
    "    home price = m * (area) + b\n",
    "Generic form of same equation is,"
   ]
  },
  {
   "cell_type": "markdown",
   "metadata": {},
   "source": [
    "<img src=\"linear_equation.png\" style=\"width:700px;height:370px\" >"
   ]
  },
  {
   "cell_type": "code",
   "execution_count": null,
   "metadata": {},
   "outputs": [],
   "source": [
    "import pandas as pd\n",
    "import numpy as np\n",
    "from sklearn.model_selection import train_test_split\n",
    "from sklearn import linear_model\n",
    "import matplotlib.pyplot as plt\n",
    "%matplotlib inline"
   ]
  },
  {
   "cell_type": "code",
   "execution_count": null,
   "metadata": {},
   "outputs": [],
   "source": [
    "df = pd.read_csv('homeprices.csv')\n",
    "df"
   ]
  },
  {
   "cell_type": "code",
   "execution_count": null,
   "metadata": {},
   "outputs": [],
   "source": [
    "plt.xlabel('area')\n",
    "plt.ylabel('price')\n",
    "plt.scatter(df.area,df.price,color='red',marker='+')\n",
    "plt.plot(df.area,reg.predict(df[['area']]))  # predict and fit takes the 2d array"
   ]
  },
  {
   "cell_type": "code",
   "execution_count": null,
   "metadata": {},
   "outputs": [],
   "source": [
    "new_df = df.drop('price',axis='columns')\n",
    "print(new_df)\n",
    "price = df.price\n",
    "print(price)\n",
    "# Create linear regression object\n",
    "reg = linear_model.LinearRegression()\n",
    "reg.fit(new_df,price) # idenitify m and c"
   ]
  },
  {
   "cell_type": "code",
   "execution_count": null,
   "metadata": {},
   "outputs": [],
   "source": [
    "print(reg.coef_)\n",
    "print(reg.intercept_)"
   ]
  },
  {
   "cell_type": "code",
   "execution_count": null,
   "metadata": {},
   "outputs": [],
   "source": [
    "df"
   ]
  },
  {
   "cell_type": "code",
   "execution_count": null,
   "metadata": {},
   "outputs": [],
   "source": [
    "df['predicted_price']=reg.predict(df[['area']])\n",
    "df\n"
   ]
  },
  {
   "cell_type": "code",
   "execution_count": null,
   "metadata": {},
   "outputs": [],
   "source": [
    "#Exerciese\n",
    "\n",
    "df = pd.read_csv('C:\\Gani\\MachinceLearning\\MachinceLearning\\datasets\\canada_per_capita_income.csv')\n",
    "df.rename(columns={\"per capita income (US$)\":\"income\"},inplace=True)\n",
    "df"
   ]
  },
  {
   "cell_type": "code",
   "execution_count": null,
   "metadata": {},
   "outputs": [],
   "source": [
    "plt.xlabel('year')\n",
    "plt.ylabel('income')\n",
    "plt.scatter(df.year,df.income,color='red',marker=\"*\")"
   ]
  },
  {
   "cell_type": "code",
   "execution_count": null,
   "metadata": {},
   "outputs": [],
   "source": [
    "X=pd.DataFrame(df.year)\n",
    "y=pd.DataFrame(df.income)\n",
    "X_train,X_test,y_train,y_test=train_test_split(X,y,random_state=42,test_size =0.3)"
   ]
  },
  {
   "cell_type": "code",
   "execution_count": null,
   "metadata": {},
   "outputs": [],
   "source": [
    "X_train.count()"
   ]
  },
  {
   "cell_type": "code",
   "execution_count": null,
   "metadata": {},
   "outputs": [],
   "source": [
    "X_train"
   ]
  },
  {
   "cell_type": "code",
   "execution_count": null,
   "metadata": {},
   "outputs": [],
   "source": [
    "reg1=linear_model.LinearRegression()\n",
    "reg1.fit(X_train,y_train)"
   ]
  },
  {
   "cell_type": "code",
   "execution_count": null,
   "metadata": {},
   "outputs": [],
   "source": [
    "print(reg1.coef_)\n",
    "print(reg1.intercept_)"
   ]
  },
  {
   "cell_type": "code",
   "execution_count": null,
   "metadata": {},
   "outputs": [],
   "source": [
    "y_predicted=reg1.predict(X_test)"
   ]
  },
  {
   "cell_type": "code",
   "execution_count": null,
   "metadata": {},
   "outputs": [],
   "source": [
    "plt.scatter(X_train,y_train)\n",
    "plt.scatter(X_test,y_predicted)\n",
    "plt.plot(X_test,y_predicted)"
   ]
  },
  {
   "cell_type": "code",
   "execution_count": null,
   "metadata": {},
   "outputs": [],
   "source": [
    "reg1.score(X_test,y_test)"
   ]
  },
  {
   "cell_type": "markdown",
   "metadata": {},
   "source": [
    "### Exercise 3 (Multi linear regression)\n",
    "Car price prediction"
   ]
  },
  {
   "cell_type": "code",
   "execution_count": null,
   "metadata": {
    "scrolled": true
   },
   "outputs": [],
   "source": [
    "# import libraries\n",
    "import pandas as pd\n",
    "import numpy as np\n",
    "import matplotlib.pyplot as plt\n",
    "%matplotlib inline\n",
    "\n",
    "# load the dataaset\n",
    "car_df=pd.read_csv(r'C:\\Users\\00004829\\OneDrive - Arisglobal software pvt Ltd\\Gani\\MachinceLearning\\MachinceLearning\\datasets\\car_data.csv')\n",
    "\n",
    "# generally used to check the metadata of the dataset\n",
    "'''\n",
    "car_df.head()\n",
    "car_df.describe()\n",
    "car_df.isnull().sum()\n",
    "car_df['Owner'].unique()\n",
    "car_df['Owner'].value_counts()\n",
    "#car_df['Fuel_Type'].unique()\n",
    "\n",
    "plt.scatter(X,y,color='red',marker=\"*\")\n",
    "'''\n",
    "\n",
    "\n",
    "# we need to convert three categorical columns to one hot encode features\n",
    "car_df2=pd.get_dummies(car_df[['Fuel_Type','Seller_Type','Transmission']],drop_first=True)\n",
    "\n",
    "# we need to drop original columns and car_name is not useful fo rprediction so dropping\n",
    "car_df.drop(columns=['Car_Name','Fuel_Type','Seller_Type','Transmission'],inplace=True)\n",
    "\n",
    "# we need to append the one hot encoded columns at the end\n",
    "car_df=pd.concat([car_df,car_df2],axis=1)\n",
    "\n",
    "# split the independent and dependent features\n",
    "X=car_df.drop(columns=['Selling_Price']).to_numpy()\n",
    "y=car_df[['Selling_Price']].to_numpy()\n",
    "\n",
    "#split the dataset into train and test datastes\n",
    "from sklearn.model_selection import train_test_split\n",
    "x_train,x_test,y_train,y_test=train_test_split(X,y,test_size=0.3,random_state=42)\n",
    "print(x_train.shape)\n",
    "print(x_test.shape)\n",
    "print(y_train.shape)\n",
    "print(y_test.shape)\n",
    "\n",
    "# feature scaling\n",
    "\n",
    "#Note: In MLR, we will not do feature scaling as it is taken care by the library, so we don't need to do it manually.\n",
    "\n",
    "# linear model object creation\n",
    "from sklearn.linear_model import LinearRegression  \n",
    "regressor= LinearRegression()  \n",
    "regressor.fit(x_train, y_train)  \n",
    "print(regressor.coef_)\n",
    "print(regressor.intercept_)\n",
    "\n",
    "#Predicting the Test set result;  \n",
    "y_pred= regressor.predict(x_test)  \n",
    "\n",
    "print('Train Score: ', regressor.score(x_train, y_train)*100)  \n",
    "print('Test Score: ', regressor.score(x_test, y_test)*100)  \n",
    "\n"
   ]
  },
  {
   "cell_type": "markdown",
   "metadata": {},
   "source": [
    "#### Example 2: House prediction:\n",
    "        "
   ]
  },
  {
   "cell_type": "code",
   "execution_count": 4,
   "metadata": {},
   "outputs": [
    {
     "data": {
      "image/png": "[encoded data removed]",
      "text/plain": [
       "<Figure size 1080x1080 with 2 Axes>"
      ]
     },
     "metadata": {
      "needs_background": "light"
     },
     "output_type": "display_data"
    },
    {
     "name": "stdout",
     "output_type": "stream",
     "text": [
      "60.848627252303864\n"
     ]
    }
   ],
   "source": [
    "# import libraries\n",
    "import numpy as np\n",
    "import pandas as pd\n",
    "from sklearn.linear_model import LinearRegression\n",
    "from sklearn.model_selection import train_test_split\n",
    "import seaborn as sns\n",
    "import matplotlib.pyplot as plt\n",
    "%matplotlib inline\n",
    "\n",
    "# read csv\n",
    "df=pd.read_csv(r'C:\\Users\\00004829\\OneDrive - Arisglobal software pvt Ltd\\Gani\\MachinceLearning\\MachinceLearning\\datasets\\kc_house_data.csv')\n",
    "\n",
    "## Information about DataSet\n",
    "#df.info()\n",
    "\n",
    "## Zero-Values\n",
    "#df.isnull().sum()\n",
    "\n",
    "# correlation helps to find out which features can be dropped out. negative correlation features shd be dropped\n",
    "fig, ax = plt.subplots(figsize=(15,15))\n",
    "sns.heatmap(df.corr(),annot=True, fmt=\".2f\", linewidths=.5, cmap='RdYlGn')\n",
    "plt.show()\n",
    "\n",
    "# as per the correlation, dropping few columns\n",
    "df.drop(['id','date','zipcode','condition','long','sqft_lot15','yr_built','sqft_lot','view','waterfront','yr_renovated'],axis=1,inplace=True)\n",
    "\n",
    "x=df.drop(['price'],axis=1)\n",
    "y=df['price']\n",
    "\n",
    "from sklearn.linear_model import LinearRegression\n",
    "\n",
    "#Spliting Train/Test --> Generally, we need to split our DataSet into 3 groups: Train, Test and Evaluation!\n",
    "from sklearn.model_selection import train_test_split\n",
    "x_train,x_test,y_train,y_test=train_test_split(x,y,test_size=0.2,random_state=42)\n",
    "\n",
    "\n",
    "#Scores\n",
    "from sklearn.metrics import r2_score\n",
    "\n",
    "#from sklearn.preprocessing import StandardScaler\n",
    "\n",
    "#scaler=StandardScaler()\n",
    "#x_train_scaled=scaler.fit_transform(x_train,y_train)\n",
    "#x_test_scaled=scaler.transform(x_test)\n",
    "\n",
    "# LinearRegression\n",
    "\n",
    "LinReg=LinearRegression()\n",
    "LinReg.fit(x_train,y_train)\n",
    "y_pred=LinReg.predict(x_test)\n",
    "\n",
    "print(r2_score(y_test,y_pred)*100)\n",
    "\n"
   ]
  },
  {
   "cell_type": "markdown",
   "metadata": {},
   "source": [
    "### Model Evaluation\n",
    "    Our goal is to not to create models but to create high quality models.So, the strategies to evaluate model areimportant.\n",
    "    \n",
    "#####    Strategy 1 - Hold Out (validation) :\n",
    "    In hold out, we split the data into two datasets (training and testing).Model is trained on training dataset and \n",
    "    evaluate model on the test dataset (we are treating test dataset as unseen data)\n",
    "        \n",
    "       Pros: Easy to implement and is usally done for a large dataset.\n",
    "       \n",
    "       Cons: \n",
    "           1) Model performance is highly dependent on the test dataset that we splitted.\n",
    "           2) Model is neither trained nor evaluated on complete available data.\n",
    "           \n",
    "              \n",
    "       Implementation in sklearn:\n",
    "           from sklearn.model_selection import train_test_split\n",
    "           X_train,X_test,y_train,y_test=train_test_split(X,y,test_size=0.3,Stratified=True,random_state=42)\n",
    "##### Strategy 2 - k-fold cross validation:\n",
    "    In this strategy, we split the data into k folds (parts).The model is trained on k-1 folds (combinely as training data)  \n",
    "    and evaluted on left out fold which is treated as test dataset.The process is repeated for k times taking different fold \n",
    "    as test dataset.The performance is calculated as the average score of the k scores.Default folds in sklearn is 3.\n",
    "    \n",
    "        \n",
    "    Implementation in sckit learn:\n",
    "    \n",
    "    from sklearn.model_selection import KFold,StratifiedKFold,cross_val_score\n",
    "    \n",
    "     way 1: cross_val_score(logreg, iris.data, iris.target, cv=5) # the logreg is the algorithm object\n",
    "     \n",
    "     way 2:  kf = KFold(n_splits=10, shuffle=True, random_state=1)  \n",
    "             cross_val_score(logreg, iris.data, iris.target, cv=kf)\n",
    "             \n",
    "     way 3: In case of imbalanced classes, it is best to use stratified k fold.\n",
    "     \n",
    "             kf = StratifiedKFold(n_splits=10, shuffle=True, random_state=1)  \n",
    "             cross_val_score(logreg, iris.data, iris.target, cv=kf)\n",
    "     \n",
    "#####     Note:\n",
    "     Point 1:  Cross validation assumes that features are independent to each other.\n",
    "     Point 2: It is important to preprocess data on training and apply those transformations on test data else the test data \n",
    "              leaks into training data.\n",
    "              \n",
    "             Implementation:\n",
    "                 pipeline in scikit learn helps in doing such transformatons.\n",
    "                 \n",
    "                 standardizer = StandardScaler()\n",
    "                 \n",
    "                 # Create a pipeline\n",
    "                    pipeline = make_pipeline(standardizer, logreg)\n",
    "                    \n",
    "                    # Do k-fold cross-validation\n",
    "                       cv_results = cross_val_score(pipeline, # Pipeline\n",
    "                                                    features, # Feature matrix\n",
    "                                                    target, # Target vector\n",
    "                                                    cv=kf, # Cross-validation technique\n",
    "                                                    scoring=\"accuracy\", # Loss function\n",
    "                                                    n_jobs=-1 # Use all CPU scores\n",
    "                                                    ) \n",
    "              \n",
    "\n",
    "     Pros: Better and accurate models.\n",
    "           Model generalizes the complete data as it is trained and evaluted on full data.\n",
    "           \n",
    "     Cons: Computation time is high\n",
    "     \n",
    " ###### Strategy 3: Leave one out cross validation: \n",
    "     In this strategy, k is equal to no of samples in the dataset.\n",
    "     \n",
    "     Implementation:\n",
    "         from sklearn.model_selection import LeaveOneOut\n",
    "         loo = LeaveOneOut()\n",
    "         scores = cross_val_score(logreg, iris.data, iris.target, cv=loo)\n",
    "     \n",
    "     Pros: Sometimes gives better results on small datasets.\n",
    "     Cons: Time consuming on large datasets\n",
    "     \n",
    "###### Strategy 4: Shuffle-split cross-validation:\n",
    "     This strategy uses subsampling.It means, we take percentage of data as training and some percentage as testing dataset.\n",
    "     We repeat it for k iterations.\n",
    "     \n",
    "     Imple:\n",
    "             from sklearn.model_selection import ShuffleSplit\n",
    "             shuffle_split = ShuffleSplit(test_size=.3, train_size=.2, n_splits=10)\n",
    "             scores = cross_val_score(logreg, iris.data, iris.target, cv=shuffle_split)\n",
    "             \n",
    "      Pros: Useful for large datasets.Allows a finer control on the number of iterations and the proportion of samples on \n",
    "              each side of the train / test split.\n",
    "      Cons: We may miss important samples or labels / can have imbalanced data.\n",
    "      \n",
    "     Note: we can use StratifiedShuffleSplit for imbalanced classes. \n",
    "     \n",
    "###### It is always good to go with stratified versions.\n",
    "\n",
    "##### Strategt 5: Group k fold:\n",
    "        This is used when we have groups of data which are highly corelated.\n",
    "        For example, let’s say we have a problem in which we would like to build a model to detect skin cancer from skin\n",
    "        images of patients. Our task is to build a binary classifier which takes an input image and predicts the \n",
    "        probability for it being benign or malignant.In these kinds of datasets, you might have multiple images for the \n",
    "        same patient in the training dataset. So, to build a good cross-validation system here, you must have \n",
    "        stratified k-folds, but you must also make sure that patients in training data do not appear in validation data.\n",
    "        \n",
    "        GroupKfold solved this for us.\n",
    "        \n",
    "        Imple: from sklearn.model_selection import GroupKFold\n",
    "                # create synthetic dataset\n",
    "                X, y = make_blobs(n_samples=12, random_state=0)\n",
    "                # assume the first three samples belong to the same group,\n",
    "                # then the next four, etc.\n",
    "                groups = [0, 0, 0, 1, 1, 1, 1, 2, 2, 3, 3, 3]\n",
    "                scores = cross_val_score(logreg, X, y, groups, cv=GroupKFold(n_splits=3))\n",
    "                \n",
    "            Most commonly used are KFold,StratifiedKFold and ShuffleSplit\n",
    "##### Note: Make sure the feature selection, normalization carried in cross validation score.\n",
    "  \n",
    "          ex:     from sklearn.feature_selection import SelectKBest, f_regression\n",
    "                    clf = make_pipeline(SelectKBest(f_regression, k=20),\n",
    "                                logisticRegression())"
   ]
  },
  {
   "cell_type": "markdown",
   "metadata": {},
   "source": [
    "##### cross_val_predict : The cross val score gives the scores of each iteration but cross val predict gives predicted values.\n",
    "    from sklearn.model_selection import cross_val_predict\n",
    "    y_train_pred = cross_val_predict(sgd_clf, X_train, y_train_5, cv=3)"
   ]
  },
  {
   "cell_type": "markdown",
   "metadata": {},
   "source": [
    "### Coding tips:\n",
    "    It is always good to create a base line model (simple model) to compare against our actual model. The minimum score that \n",
    "    our model should provide is greater than base line model score then we call our model is performing.We usually pass the \n",
    "    \"strategy\" parameter which takes mean/median/constant. Mean gives mean of the target column to all values whereas\n",
    "    constant give a constant to every observation.\n",
    "    \n",
    "######    Regression base line model:\n",
    "        from sklean.dummy import DummyRegressor\n",
    "        \n",
    "        # Create a dummy regressor\n",
    "        dummyreg = DummyRegressor(strategy='mean') #it can be median /constant\n",
    "        (or)\n",
    "        dummyreg = DummyRegressor(strategy='constant',constant=20)\n",
    "        \n",
    "        dummyreg.fit(X_train,y_train)        \n",
    "        dummreg.score(X_test,y_test) # this gives r2 score\n",
    "        \n",
    "######    Classification base line model:\n",
    "        from sklean.dummy import DummyClassifier\n",
    "        \n",
    "        # Create dummy classifier\n",
    "        dummy = DummyClassifier(strategy='uniform', random_state=1) # other is stratified\n",
    "        # stratified gives same proportion of classes as the prediction and uniform gives equal noofpredictions to allclasss \n",
    "        \n",
    "        # \"Train\" model\n",
    "        dummy.fit(features_train, target_train)       \n",
    "        dummy.score(features_test, target_test) # this accuracy score\n"
   ]
  },
  {
   "cell_type": "code",
   "execution_count": null,
   "metadata": {},
   "outputs": [],
   "source": []
  }
 ],
 "metadata": {
  "kernelspec": {
   "display_name": "Python 3",
   "language": "python",
   "name": "python3"
  },
  "language_info": {
   "codemirror_mode": {
    "name": "ipython",
    "version": 3
   },
   "file_extension": ".py",
   "mimetype": "text/x-python",
   "name": "python",
   "nbconvert_exporter": "python",
   "pygments_lexer": "ipython3",
   "version": "3.8.5"
  }
 },
 "nbformat": 4,
 "nbformat_minor": 4
}
